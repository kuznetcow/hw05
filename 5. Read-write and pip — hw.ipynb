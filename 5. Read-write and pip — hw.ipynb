{
 "cells": [
  {
   "cell_type": "markdown",
   "metadata": {},
   "source": [
    "# Домашнее задание\n",
    "1. Переведите содержимое файла purchase_log.txt в словарь purchases вида:\n",
    "```python\n",
    "{'1840e0b9d4': 'Продукты', ...}\n",
    "```\n",
    "\n",
    "2. Для каждого user_id в файле visit_log.csv добавьте третий столбец с категорией покупки (если покупка была).\n",
    "\n",
    "3. Запишите в файл funnel.csv визиты из файла visit_log.csv, в которых были покупки с указанием категории.\n",
    "\n",
    "Учтите условия на данные:\n",
    "- содержимое purchase_log.txt помещается в оперативную память компьютера\n",
    "- содержимое visit_log.csv - нет; используйте только построчную обработку этого файла"
   ]
  },
  {
   "cell_type": "code",
   "execution_count": 6,
   "metadata": {},
   "outputs": [],
   "source": [
    "import json"
   ]
  },
  {
   "cell_type": "code",
   "execution_count": 7,
   "metadata": {},
   "outputs": [],
   "source": [
    "#i = 0\n",
    "dict_from_purchase_log = {}\n",
    "with open('purchase_log.txt') as f:\n",
    "    for line in f:\n",
    "        line = line.strip()        \n",
    "        dict_ = json.loads(line)\n",
    "        key = dict_['user_id']\n",
    "        value = dict_['category']\n",
    "        dict_from_purchase_log[key] = value\n",
    "\n",
    "#        i = i+1\n",
    "#        if i > 10:\n",
    "#            break\n",
    "#print(dict_from_purchase_log)\n",
    "\n",
    "f.close()"
   ]
  },
  {
   "cell_type": "code",
   "execution_count": 9,
   "metadata": {},
   "outputs": [],
   "source": [
    "with open('visit_log.csv',\"r\") as f_vis:\n",
    "    f_vis.readline()\n",
    "    with open('funnel.csv',\"w\") as f_fun:\n",
    "        for line in f_vis:\n",
    "            line = line.strip().split(',')\n",
    "            category = dict_from_purchase_log.get(line[0])\n",
    "            if category != None:\n",
    "                line.append(category)\n",
    "                new_line = ','.join(line) + \"\\n\"\n",
    "                f_fun.write(new_line)\n",
    "                \n",
    "f_vis.close()\n",
    "f_fun.close()"
   ]
  },
  {
   "cell_type": "code",
   "execution_count": null,
   "metadata": {},
   "outputs": [],
   "source": []
  }
 ],
 "metadata": {
  "kernelspec": {
   "display_name": "Python 3",
   "language": "python",
   "name": "python3"
  },
  "language_info": {
   "codemirror_mode": {
    "name": "ipython",
    "version": 3
   },
   "file_extension": ".py",
   "mimetype": "text/x-python",
   "name": "python",
   "nbconvert_exporter": "python",
   "pygments_lexer": "ipython3",
   "version": "3.7.6"
  }
 },
 "nbformat": 4,
 "nbformat_minor": 2
}
